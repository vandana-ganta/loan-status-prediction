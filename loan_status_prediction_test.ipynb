{
 "cells": [
  {
   "cell_type": "code",
   "execution_count": 1,
   "metadata": {},
   "outputs": [
    {
     "data": {
      "text/plain": [
       "'C:\\\\Users\\\\Govar\\\\Desktop\\\\remote internship2020\\\\project'"
      ]
     },
     "execution_count": 1,
     "metadata": {},
     "output_type": "execute_result"
    }
   ],
   "source": [
    "#changing directory to dataset directory to read dataset\n",
    "import os\n",
    "os.getcwd()"
   ]
  },
  {
   "cell_type": "code",
   "execution_count": 2,
   "metadata": {},
   "outputs": [],
   "source": [
    "os.chdir(\"C:/Users/Govar/Desktop/remote internship2020/project\")"
   ]
  },
  {
   "cell_type": "markdown",
   "metadata": {},
   "source": [
    "# Predictions for new data"
   ]
  },
  {
   "cell_type": "code",
   "execution_count": 5,
   "metadata": {},
   "outputs": [],
   "source": [
    "from sklearn.ensemble import RandomForestClassifier\n",
    "import pickle"
   ]
  },
  {
   "cell_type": "code",
   "execution_count": 6,
   "metadata": {},
   "outputs": [],
   "source": [
    "model = pickle.load(open('model1.pkl','rb'))"
   ]
  },
  {
   "cell_type": "code",
   "execution_count": 7,
   "metadata": {},
   "outputs": [],
   "source": [
    "nd2=[[1, 1,2.0, 1, 0, 2583, 2358.0, 120.0, 360.0, 1.0, 0.0, 0.0]]"
   ]
  },
  {
   "cell_type": "code",
   "execution_count": 8,
   "metadata": {},
   "outputs": [
    {
     "name": "stdout",
     "output_type": "stream",
     "text": [
      "Your loan approval is approved\n"
     ]
    }
   ],
   "source": [
    "p=model.predict(nd2)\n",
    "if(p[0]==1):\n",
    "    print(\"Your loan approval is approved\")\n",
    "else:\n",
    "    print(\"Your loan approval is rejected\")"
   ]
  },
  {
   "cell_type": "code",
   "execution_count": 9,
   "metadata": {},
   "outputs": [],
   "source": [
    "nd3=[[1, 1,4.0, 0, 0, 4583, 1508.0, 128.0, 360.0, 1.0, 1.0, 0.0]]"
   ]
  },
  {
   "cell_type": "code",
   "execution_count": 10,
   "metadata": {},
   "outputs": [
    {
     "name": "stdout",
     "output_type": "stream",
     "text": [
      "Your loan approval is approved\n"
     ]
    }
   ],
   "source": [
    "p=model.predict(nd3)\n",
    "if(p[0]==1):\n",
    "    print(\"Your loan approval is approved\")\n",
    "else:\n",
    "    print(\"Your loan approval is rejected\")"
   ]
  },
  {
   "cell_type": "code",
   "execution_count": 11,
   "metadata": {},
   "outputs": [
    {
     "name": "stdout",
     "output_type": "stream",
     "text": [
      "Your loan approval is approved\n"
     ]
    }
   ],
   "source": [
    "nd4=[[1, 1, 1.0, 0, 0, 4583, 1508.0, 128.0, 360.0, 1.0, 1.0,0.0]]\n",
    "p=model.predict(nd4)\n",
    "if(p[0]==1):\n",
    "    print(\"Your loan approval is approved\")\n",
    "else:\n",
    "    print(\"Your loan approval is rejected\")"
   ]
  },
  {
   "cell_type": "code",
   "execution_count": 12,
   "metadata": {},
   "outputs": [
    {
     "name": "stdout",
     "output_type": "stream",
     "text": [
      "Your loan approval is rejected\n"
     ]
    }
   ],
   "source": [
    "nd5=[[0,1,1.0,1,0,1076,0.0,400.0,600,0,1.0,0.0]]\n",
    "p=model.predict(nd5)\n",
    "if(p[0]==1):\n",
    "    print(\"Your loan approval is approved\")\n",
    "else:\n",
    "    print(\"Your loan approval is rejected\")"
   ]
  }
 ],
 "metadata": {
  "kernelspec": {
   "display_name": "Python 3",
   "language": "python",
   "name": "python3"
  },
  "language_info": {
   "codemirror_mode": {
    "name": "ipython",
    "version": 3
   },
   "file_extension": ".py",
   "mimetype": "text/x-python",
   "name": "python",
   "nbconvert_exporter": "python",
   "pygments_lexer": "ipython3",
   "version": "3.7.4"
  }
 },
 "nbformat": 4,
 "nbformat_minor": 2
}
